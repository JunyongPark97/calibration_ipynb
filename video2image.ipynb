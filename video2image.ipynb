{
 "cells": [
  {
   "cell_type": "code",
   "execution_count": null,
   "metadata": {},
   "outputs": [],
   "source": [
    "import cv\n",
    "# 동영상 파일 열기\n",
    "video_path = '/home/phw93/dev/calib/data/calibration.mov'\n",
    "cap = cv2.VideoCapture(video_path)\n",
    "\n",
    "# 프레임 카운트 초기화\n",
    "frame_count = 0\n",
    "\n",
    "# 프레임 읽기\n",
    "while cap.isOpened():\n",
    "    # 프레임 읽기\n",
    "    ret, frame = cap.read()\n",
    "\n",
    "    if ret:\n",
    "        # 이미지 파일로 저장\n",
    "        image_path = f'frame_{frame_count}.jpg'\n",
    "        cv2.imwrite(image_path, frame)\n",
    "\n",
    "        # 다음 프레임으로 넘어가기\n",
    "        frame_count += 1\n",
    "    else:\n",
    "        break\n",
    "\n",
    "# 작업 완료 후 해제\n",
    "cap.release()\n"
   ]
  }
 ],
 "metadata": {
  "language_info": {
   "name": "python"
  },
  "orig_nbformat": 4
 },
 "nbformat": 4,
 "nbformat_minor": 2
}
