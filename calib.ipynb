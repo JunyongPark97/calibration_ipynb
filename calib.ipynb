{
 "cells": [
  {
   "cell_type": "code",
   "execution_count": 2,
   "metadata": {},
   "outputs": [],
   "source": [
    "''' Import libraries '''\n",
    "import cv2\n",
    "import numpy as np\n",
    "import matplotlib.pyplot as plt"
   ]
  },
  {
   "cell_type": "code",
   "execution_count": 3,
   "metadata": {},
   "outputs": [
    {
     "name": "stderr",
     "output_type": "stream",
     "text": [
      "[ WARN:0@1.806] global loadsave.cpp:244 findDecoder imread_('/data/image.jpeg'): can't open/read file: check file path/integrity\n"
     ]
    },
    {
     "ename": "error",
     "evalue": "OpenCV(4.7.0) /io/opencv/modules/imgproc/src/color.cpp:182: error: (-215:Assertion failed) !_src.empty() in function 'cvtColor'\n",
     "output_type": "error",
     "traceback": [
      "\u001b[0;31m---------------------------------------------------------------------------\u001b[0m",
      "\u001b[0;31merror\u001b[0m                                     Traceback (most recent call last)",
      "Cell \u001b[0;32mIn[3], line 7\u001b[0m\n\u001b[1;32m      4\u001b[0m img_bgr \u001b[39m=\u001b[39m cv2\u001b[39m.\u001b[39mimread(\u001b[39m\"\u001b[39m\u001b[39m/data/image.jpeg\u001b[39m\u001b[39m\"\u001b[39m)\n\u001b[1;32m      5\u001b[0m \u001b[39m# img_bgr = cv2.imread(\"/gdrive/MyDrive/dataset/calib_image6.bmp\")\u001b[39;00m\n\u001b[1;32m      6\u001b[0m \u001b[39m# Normalize image to between 0 and 1.\u001b[39;00m\n\u001b[0;32m----> 7\u001b[0m img \u001b[39m=\u001b[39m cv2\u001b[39m.\u001b[39;49mcvtColor(img_bgr, cv2\u001b[39m.\u001b[39;49mCOLOR_BGR2GRAY)\u001b[39m.\u001b[39mastype(\u001b[39mfloat\u001b[39m) \u001b[39m/\u001b[39m \u001b[39m255.0\u001b[39m\n\u001b[1;32m      9\u001b[0m \u001b[39m# Show output\u001b[39;00m\n\u001b[1;32m     10\u001b[0m plt\u001b[39m.\u001b[39mfigure(figsize\u001b[39m=\u001b[39m(\u001b[39m10\u001b[39m, \u001b[39m10\u001b[39m))\n",
      "\u001b[0;31merror\u001b[0m: OpenCV(4.7.0) /io/opencv/modules/imgproc/src/color.cpp:182: error: (-215:Assertion failed) !_src.empty() in function 'cvtColor'\n"
     ]
    }
   ],
   "source": [
    "''' Load image using OpenCV '''\n",
    "# Upload the LMS image to Google Drive and point to its location.\n",
    "# Note OpenCV reads image as BGR.\n",
    "img_path = '/home/phw/myenv/data/image.jpeg'\n",
    "img_bgr = cv2.imread(img_path)\n",
    "# img_bgr = cv2.imread(\"/gdrive/MyDrive/dataset/calib_image6.bmp\")\n",
    "# Normalize image to between 0 and 1.\n",
    "img = cv2.cvtColor(img_bgr, cv2.COLOR_BGR2GRAY).astype(float) / 255.0\n",
    "\n",
    "# Show output\n",
    "plt.figure(figsize=(10, 10))\n",
    "plt.imshow(img, cmap='gray')\n",
    "plt.show()"
   ]
  }
 ],
 "metadata": {
  "kernelspec": {
   "display_name": "myenv",
   "language": "python",
   "name": "python3"
  },
  "language_info": {
   "codemirror_mode": {
    "name": "ipython",
    "version": 3
   },
   "file_extension": ".py",
   "mimetype": "text/x-python",
   "name": "python",
   "nbconvert_exporter": "python",
   "pygments_lexer": "ipython3",
   "version": "3.8.10"
  },
  "orig_nbformat": 4
 },
 "nbformat": 4,
 "nbformat_minor": 2
}
